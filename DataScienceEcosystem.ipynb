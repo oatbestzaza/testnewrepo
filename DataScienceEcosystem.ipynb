{
 "cells": [
  {
   "cell_type": "markdown",
   "id": "039d3afe-95cf-499b-88f9-af6f550ff252",
   "metadata": {},
   "source": [
    "# Data Science Tools and Ecosystem\n"
   ]
  },
  {
   "cell_type": "markdown",
   "id": "0e8a7413-7cbf-4852-a1ae-92fafabbab6a",
   "metadata": {},
   "source": [
    "## In this notebook, Data Science Tools and Ecosystem are summarized.\n"
   ]
  },
  {
   "cell_type": "markdown",
   "id": "5bf1be89-cf3d-4f83-9dd1-c1c6420c697e",
   "metadata": {},
   "source": [
    "__Objectives:__\n",
    "- Python\n",
    "- Ruby\n",
    "- Java script"
   ]
  },
  {
   "cell_type": "markdown",
   "id": "a7c8dffe-c8c9-4928-8bf1-6ee7eda8f677",
   "metadata": {},
   "source": [
    "## Some of the popular languages that Data Scientists use are:\n",
    "1. Python\n",
    "2. Ruby\n",
    "3. Java script"
   ]
  },
  {
   "cell_type": "markdown",
   "id": "58738e73-63e9-45c1-a0e8-f626315ce2b5",
   "metadata": {},
   "source": [
    "## Some of the commonly used libraries used by Data Scientists include:\n",
    "1. Pandas\n",
    "2. NumPy\n",
    "3. TensorFlow"
   ]
  },
  {
   "cell_type": "markdown",
   "id": "ceae53e8-6808-400a-81e2-a33ec866b367",
   "metadata": {},
   "source": [
    "|Data Science Tools|\n",
    "|-------|\n",
    "|Jupyter notebook|\n",
    "|Vscode|\n",
    "|Google Colab|"
   ]
  },
  {
   "cell_type": "markdown",
   "id": "56ec1b43-5539-4b4f-a2bf-d62fdc1631e3",
   "metadata": {},
   "source": [
    "### Below are a few examples of evaluating arithmetic expressions in Python"
   ]
  },
  {
   "cell_type": "code",
   "execution_count": 4,
   "id": "6ad07901-95a0-46c3-b49a-4e1f97b8bd5c",
   "metadata": {},
   "outputs": [
    {
     "data": {
      "text/plain": [
       "17"
      ]
     },
     "execution_count": 4,
     "metadata": {},
     "output_type": "execute_result"
    }
   ],
   "source": [
    "# This a simple arithmetic expression to mutiply then add integers\n",
    "(3*4)+5"
   ]
  },
  {
   "cell_type": "code",
   "execution_count": 6,
   "id": "2c930386-652e-4c6f-8887-64b66d090f30",
   "metadata": {},
   "outputs": [
    {
     "data": {
      "text/plain": [
       "3.3333333333333335"
      ]
     },
     "execution_count": 6,
     "metadata": {},
     "output_type": "execute_result"
    }
   ],
   "source": [
    "# This will convert 200 minutes to hours by diving by 60\n",
    "200/60"
   ]
  },
  {
   "cell_type": "markdown",
   "id": "a9f668bc-d40b-4267-a73a-1403ee22797e",
   "metadata": {},
   "source": [
    "## Author Auttapon"
   ]
  },
  {
   "cell_type": "code",
   "execution_count": null,
   "id": "56c44c91-70db-43d2-9c90-dbc43509e41f",
   "metadata": {},
   "outputs": [],
   "source": []
  }
 ],
 "metadata": {
  "kernelspec": {
   "display_name": "Python 3 (ipykernel)",
   "language": "python",
   "name": "python3"
  },
  "language_info": {
   "codemirror_mode": {
    "name": "ipython",
    "version": 3
   },
   "file_extension": ".py",
   "mimetype": "text/x-python",
   "name": "python",
   "nbconvert_exporter": "python",
   "pygments_lexer": "ipython3",
   "version": "3.11.7"
  }
 },
 "nbformat": 4,
 "nbformat_minor": 5
}
